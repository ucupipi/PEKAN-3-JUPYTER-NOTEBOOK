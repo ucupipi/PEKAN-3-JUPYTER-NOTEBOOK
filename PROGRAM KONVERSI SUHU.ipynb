{
 "cells": [
  {
   "cell_type": "markdown",
   "id": "f8a5bf16-ef50-42bc-8385-1710997edea0",
   "metadata": {},
   "source": [
    "#\n",
    "nilai = input('Masukkan suhu yang akan dikonversi')\n",
    "print('Ketik F atau f untuk memilih konversi suhu Celcius ke Fahrenheit')\n",
    "suhu = input()"
   ]
  },
  {
   "cell_type": "code",
   "execution_count": null,
   "id": "22944ace-eb44-426f-899f-72f6a2bc879e",
   "metadata": {},
   "outputs": [],
   "source": []
  }
 ],
 "metadata": {
  "kernelspec": {
   "display_name": "Python 3 (ipykernel)",
   "language": "python",
   "name": "python3"
  },
  "language_info": {
   "codemirror_mode": {
    "name": "ipython",
    "version": 3
   },
   "file_extension": ".py",
   "mimetype": "text/x-python",
   "name": "python",
   "nbconvert_exporter": "python",
   "pygments_lexer": "ipython3",
   "version": "3.12.2"
  }
 },
 "nbformat": 4,
 "nbformat_minor": 5
}
